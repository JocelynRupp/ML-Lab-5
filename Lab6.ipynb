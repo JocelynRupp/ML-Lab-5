{
 "cells": [
  {
   "cell_type": "markdown",
   "id": "ed0108a4-a492-43e7-afa0-a68ec889f0b7",
   "metadata": {},
   "source": [
    "## Julia Rushton and Jocelyn Rupp"
   ]
  },
  {
   "cell_type": "markdown",
   "id": "37b6f4a0-e8ce-4699-91bb-36f07f5ccb18",
   "metadata": {},
   "source": [
    "### Preparation (3 points total)  "
   ]
  },
  {
   "cell_type": "code",
   "execution_count": 1,
   "id": "512da408-ad61-4933-abe1-27de47d6c61e",
   "metadata": {
    "tags": []
   },
   "outputs": [],
   "source": [
    "import pandas as pd\n",
    "\n",
    "from PIL import Image\n",
    "import numpy as np\n",
    "import os\n",
    "\n",
    "base_dir = '/Users/juliarushton/Downloads/flower_images'"
   ]
  },
  {
   "cell_type": "code",
   "execution_count": 2,
   "id": "b964bcf7-e4bd-4873-baf6-a7552ec0829c",
   "metadata": {
    "tags": []
   },
   "outputs": [],
   "source": [
    "acceptable_extensions = ['.jpg', '.jpeg']"
   ]
  },
  {
   "cell_type": "markdown",
   "id": "d786bbbe-991a-4c54-8960-0b17fcfa63a6",
   "metadata": {},
   "source": [
    "[1.5 points] Choose and explain what metric(s) you will use to evaluate your algorithm’s performance. You should give a detailed argument for why this (these) metric(s) are appropriate on your data. That is, why is the metric appropriate for the task (e.g., in terms of the business case for the task). Please note: rarely is accuracy the best evaluation metric to use. Think deeply about an appropriate measure of performance."
   ]
  },
  {
   "cell_type": "code",
   "execution_count": null,
   "id": "a74d5924-4061-4762-889b-101b82a9ec5f",
   "metadata": {},
   "outputs": [],
   "source": []
  },
  {
   "cell_type": "markdown",
   "id": "0fd14457-85f9-47da-add3-3229b2ba2ee9",
   "metadata": {},
   "source": [
    "[1.5 points] Choose the method you will use for dividing your data into training and testing (i.e., are you using Stratified 10-fold cross validation? Shuffle splits? Why?). Explain why your chosen method is appropriate or use more than one method as appropriate. Convince me that your cross validation method is a realistic mirroring of how an algorithm would be used in practice. "
   ]
  },
  {
   "cell_type": "markdown",
   "id": "2e3d6cbf-2a2e-4c3c-9635-14f19380e829",
   "metadata": {},
   "source": [
    "### Modeling (6 points total)"
   ]
  },
  {
   "cell_type": "markdown",
   "id": "33b0afa3-d829-4fe4-aeaf-2218a0f728df",
   "metadata": {},
   "source": [
    "[1.5 points]  Setup the training to use data expansion in Keras (also called data augmentation). Explain why the chosen data expansion techniques are appropriate for your dataset. You should make use of Keras augmentation layers, like in the class examples."
   ]
  },
  {
   "cell_type": "code",
   "execution_count": null,
   "id": "3e3c2bf6-b176-4ec9-933f-8f8c0840f9f8",
   "metadata": {},
   "outputs": [],
   "source": []
  },
  {
   "cell_type": "markdown",
   "id": "8169cc15-bbb0-4085-bc5a-c516f6e93c84",
   "metadata": {},
   "source": [
    "[2 points] Create a convolutional neural network to use on your data using Keras. Investigate at least two different convolutional network architectures and investigate changing one or more parameters of each architecture such as the number of filters. This means, at a  minimum, you will train a total of four models (2 different architectures, with 2 parameters changed in each architecture). Use the method of train/test splitting and evaluation metric that you argued for at the beginning of the lab. Visualize the performance of the training and validation sets per iteration (use the \"history\" parameter of Keras). Be sure that models converge. "
   ]
  },
  {
   "cell_type": "code",
   "execution_count": null,
   "id": "eaa87c6c-15c9-46df-9649-0bb1632b3b1f",
   "metadata": {},
   "outputs": [],
   "source": []
  },
  {
   "cell_type": "markdown",
   "id": "2651fb30-b104-4121-9651-6fd6758886fb",
   "metadata": {},
   "source": [
    "[1.5 points] Visualize the final results of all the CNNs and interpret/compare the performances. Use proper statistics as appropriate, especially for comparing models. "
   ]
  },
  {
   "cell_type": "code",
   "execution_count": null,
   "id": "479a0fe2-0b3b-4754-ab80-362ec5dcdb7e",
   "metadata": {},
   "outputs": [],
   "source": []
  },
  {
   "cell_type": "markdown",
   "id": "a4524673-7e92-443e-9eb9-6cd8476fcda1",
   "metadata": {},
   "source": [
    "[1 points] Compare the performance of your convolutional network to a standard multi-layer perceptron (MLP) using the receiver operating characteristic and area under the curve. Use proper statistical comparison techniques.  "
   ]
  },
  {
   "cell_type": "code",
   "execution_count": null,
   "id": "4b02d8c6-168d-49a6-8451-5435339b5ab7",
   "metadata": {},
   "outputs": [],
   "source": []
  }
 ],
 "metadata": {
  "kernelspec": {
   "display_name": "Python 3 (ipykernel)",
   "language": "python",
   "name": "python3"
  },
  "language_info": {
   "codemirror_mode": {
    "name": "ipython",
    "version": 3
   },
   "file_extension": ".py",
   "mimetype": "text/x-python",
   "name": "python",
   "nbconvert_exporter": "python",
   "pygments_lexer": "ipython3",
   "version": "3.11.5"
  }
 },
 "nbformat": 4,
 "nbformat_minor": 5
}
